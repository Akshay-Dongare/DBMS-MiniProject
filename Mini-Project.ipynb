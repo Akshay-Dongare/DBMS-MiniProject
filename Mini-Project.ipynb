{
 "cells": [
  {
   "cell_type": "code",
   "execution_count": 1,
   "metadata": {},
   "outputs": [],
   "source": [
    "# DBMS MINI PROJECT\n",
    "# Date: 25/09/2002\n",
    "# Team: Akshay Dongare, Jaydatta Patwe, Yash Dagadkhair"
   ]
  },
  {
   "cell_type": "code",
   "execution_count": 3,
   "metadata": {},
   "outputs": [],
   "source": [
    "# Started by creating a conda virtual environment and installed python 3.10.0, jupyter-notebook, ipykernal"
   ]
  },
  {
   "cell_type": "code",
   "execution_count": 4,
   "metadata": {},
   "outputs": [],
   "source": [
    "# Connecting MySQL to Python"
   ]
  },
  {
   "cell_type": "code",
   "execution_count": 2,
   "metadata": {},
   "outputs": [
    {
     "name": "stdout",
     "output_type": "stream",
     "text": [
      "<mysql.connector.connection_cext.CMySQLConnection object at 0x7f13584c5fc0>\n"
     ]
    }
   ],
   "source": [
    "import mysql.connector\n",
    "\n",
    "mydb = mysql.connector.connect(\n",
    "  host=\"localhost\",\n",
    "  user=\"root\",\n",
    "  password=\"Mypassword#1\"\n",
    ")\n",
    "\n",
    "print(mydb) #prints the database object"
   ]
  },
  {
   "cell_type": "code",
   "execution_count": 6,
   "metadata": {},
   "outputs": [],
   "source": [
    "# Created a database for our project"
   ]
  },
  {
   "cell_type": "code",
   "execution_count": 4,
   "metadata": {},
   "outputs": [],
   "source": [
    "mycursor = mydb.cursor()"
   ]
  },
  {
   "cell_type": "code",
   "execution_count": 8,
   "metadata": {},
   "outputs": [],
   "source": [
    "mycursor.execute(\"CREATE DATABASE mini_project\")"
   ]
  },
  {
   "cell_type": "code",
   "execution_count": 14,
   "metadata": {
    "scrolled": true
   },
   "outputs": [
    {
     "data": {
      "text/plain": [
       "'\\nmysql> show databases;\\n+--------------------+\\n| Database           |\\n+--------------------+\\n| Employee_db        |\\n| akshay             |\\n| asgn3              |\\n| asgn9              |\\n| information_schema |\\n| mini_project       |\\n| mysql              |\\n| performance_schema |\\n| sys                |\\n+--------------------+\\n9 rows in set (0.00 sec)\\n'"
      ]
     },
     "execution_count": 14,
     "metadata": {},
     "output_type": "execute_result"
    }
   ],
   "source": [
    "\"\"\"\n",
    "mysql> show databases;\n",
    "+--------------------+\n",
    "| Database           |\n",
    "+--------------------+\n",
    "| Employee_db        |\n",
    "| akshay             |\n",
    "| asgn3              |\n",
    "| asgn9              |\n",
    "| information_schema |\n",
    "| mini_project       |\n",
    "| mysql              |\n",
    "| performance_schema |\n",
    "| sys                |\n",
    "+--------------------+\n",
    "9 rows in set (0.00 sec)\n",
    "\"\"\""
   ]
  },
  {
   "cell_type": "code",
   "execution_count": 7,
   "metadata": {},
   "outputs": [],
   "source": [
    "mycursor.execute(\"use mini_project\")"
   ]
  },
  {
   "cell_type": "code",
   "execution_count": 8,
   "metadata": {},
   "outputs": [],
   "source": [
    "mycursor.execute(\"CREATE TABLE customers (id INT AUTO_INCREMENT PRIMARY KEY, name VARCHAR(255), address VARCHAR(255))\")"
   ]
  },
  {
   "cell_type": "code",
   "execution_count": null,
   "metadata": {},
   "outputs": [],
   "source": [
    "\"\"\"\n",
    "mysql> show tables;\n",
    "+------------------------+\n",
    "| Tables_in_mini_project |\n",
    "+------------------------+\n",
    "| customers              |\n",
    "+------------------------+\n",
    "1 row in set (0.00 sec)\n",
    "\n",
    "mysql> desc customers;\n",
    "+---------+--------------+------+-----+---------+----------------+\n",
    "| Field   | Type         | Null | Key | Default | Extra          |\n",
    "+---------+--------------+------+-----+---------+----------------+\n",
    "| id      | int          | NO   | PRI | NULL    | auto_increment |\n",
    "| name    | varchar(255) | YES  |     | NULL    |                |\n",
    "| address | varchar(255) | YES  |     | NULL    |                |\n",
    "+---------+--------------+------+-----+---------+----------------+\n",
    "3 rows in set (0.00 sec)\n",
    "\"\""
   ]
  }
 ],
 "metadata": {
  "kernelspec": {
   "display_name": "mini-project",
   "language": "python",
   "name": "mini-project"
  },
  "language_info": {
   "codemirror_mode": {
    "name": "ipython",
    "version": 3
   },
   "file_extension": ".py",
   "mimetype": "text/x-python",
   "name": "python",
   "nbconvert_exporter": "python",
   "pygments_lexer": "ipython3",
   "version": "3.10.0"
  }
 },
 "nbformat": 4,
 "nbformat_minor": 4
}
